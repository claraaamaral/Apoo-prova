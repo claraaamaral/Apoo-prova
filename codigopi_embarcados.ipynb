{
  "cells": [
    {
      "cell_type": "markdown",
      "metadata": {
        "id": "view-in-github",
        "colab_type": "text"
      },
      "source": [
        "<a href=\"https://colab.research.google.com/github/claraaamaral/Apoo-prova/blob/main/codigopi_embarcados.ipynb\" target=\"_parent\"><img src=\"https://colab.research.google.com/assets/colab-badge.svg\" alt=\"Open In Colab\"/></a>"
      ]
    },
    {
      "cell_type": "markdown",
      "source": [
        "Atividade-Sistemas embarcados\n",
        "Maria Clara Amaral"
      ],
      "metadata": {
        "id": "SeM6s0Us_aIo"
      }
    },
    {
      "cell_type": "markdown",
      "source": [
        "A)PIparallel_1: Elaborar versão do código incluindo seção crítica controlada por MUTEX dentro do loop\n"
      ],
      "metadata": {
        "id": "3TaUE34c2SAC"
      }
    },
    {
      "cell_type": "markdown",
      "source": [],
      "metadata": {
        "id": "zoPVIdok2R8i"
      }
    },
    {
      "cell_type": "code",
      "execution_count": 1,
      "metadata": {
        "colab": {
          "base_uri": "https://localhost:8080/"
        },
        "id": "_8eHEimrmTF8",
        "outputId": "895292f2-bc52-4799-ebf6-6b6936683459"
      },
      "outputs": [
        {
          "output_type": "stream",
          "name": "stdout",
          "text": [
            "Estimativa de π: 3.142792\n"
          ]
        }
      ],
      "source": [
        "import random\n",
        "import multiprocessing\n",
        "\n",
        "def monte_carlo_pi(num_points):\n",
        "    inside_circle = 0\n",
        "    for _ in range(num_points):\n",
        "        x = random.uniform(0, 1)\n",
        "        y = random.uniform(0, 1)\n",
        "        if x**2 + y**2 <= 1:\n",
        "            inside_circle += 1\n",
        "    return inside_circle\n",
        "\n",
        "def estimate_pi(num_points, num_processes):\n",
        "    pool = multiprocessing.Pool(processes=num_processes)\n",
        "    points_per_process = [num_points // num_processes] * num_processes\n",
        "    results = pool.map(monte_carlo_pi, points_per_process)\n",
        "    total_inside_circle = sum(results)\n",
        "    return 4 * (total_inside_circle / num_points)\n",
        "\n",
        "if __name__ == \"__main__\":\n",
        "    num_points = 1000000  # Número total de pontos a serem gerados\n",
        "    num_processes = 4     # Número de processos paralelos\n",
        "\n",
        "    pi_estimate = estimate_pi(num_points, num_processes)\n",
        "    print(f\"Estimativa de π: {pi_estimate}\")\n"
      ]
    },
    {
      "cell_type": "markdown",
      "source": [],
      "metadata": {
        "id": "mZiFZNKl5O7V"
      }
    },
    {
      "cell_type": "markdown",
      "source": [
        "Neste código, a variável inside_circle é uma instância de multiprocessing.Value que é compartilhada entre os processos para armazenar a contagem total de pontos dentro do círculo. O mutex (lock) é usado para proteger a seção crítica ao atualizar inside_circle."
      ],
      "metadata": {
        "id": "66nu_tf05Ec9"
      }
    },
    {
      "cell_type": "code",
      "source": [
        "import random\n",
        "import multiprocessing\n",
        "\n",
        "def monte_carlo_pi(num_points):\n",
        "    inside = 0\n",
        "    for _ in range(num_points):\n",
        "        x = random.uniform(0, 1)\n",
        "        y = random.uniform(0, 1)\n",
        "        if x**2 + y**2 <= 1:\n",
        "            inside += 1\n",
        "    with lock:\n",
        "        inside_circle.value += inside\n",
        "\n",
        "def estimate_pi(num_points, num_processes):\n",
        "    global inside_circle\n",
        "    global lock\n",
        "\n",
        "    inside_circle = multiprocessing.Value('i', 0)\n",
        "    lock = multiprocessing.Lock()\n",
        "\n",
        "    pool = multiprocessing.Pool(processes=num_processes)\n",
        "    points_per_process = [num_points // num_processes] * num_processes\n",
        "    pool.map(monte_carlo_pi, points_per_process)\n",
        "    total_inside_circle = inside_circle.value\n",
        "    return 4 * (total_inside_circle / num_points)\n",
        "\n",
        "if __name__ == \"__main__\":\n",
        "    num_points = 1000000  # Número total de pontos a serem gerados\n",
        "    num_processes = 4     # Número de processos paralelos\n",
        "\n",
        "    pi_estimate = estimate_pi(num_points, num_processes)\n",
        "    print(f\"Estimativa de π: {pi_estimate}\")\n"
      ],
      "metadata": {
        "colab": {
          "base_uri": "https://localhost:8080/"
        },
        "id": "Fg7z_c-G17QL",
        "outputId": "6296b359-91df-442d-8281-b6b6a0870c6b"
      },
      "execution_count": 4,
      "outputs": [
        {
          "output_type": "stream",
          "name": "stdout",
          "text": [
            "Estimativa de π: 3.139336\n"
          ]
        }
      ]
    },
    {
      "cell_type": "markdown",
      "source": [
        "Neste código, cada thread de processo contribui para a variável inside com o número de pontos dentro do círculo. Depois que o loop termina, a thread adquire o bloqueio e atualiza a variável compartilhada inside_circle com o valor de inside."
      ],
      "metadata": {
        "id": "tzpNnZ_O473j"
      }
    },
    {
      "cell_type": "markdown",
      "source": [
        "B) PIparallel_2: Elaborar versão do código incluindo seção crítica controlada por MUTEX fora do loop, com variável privada da soma de contribuição de cada thread"
      ],
      "metadata": {
        "id": "y5n-pImj2IAa"
      }
    },
    {
      "cell_type": "code",
      "source": [
        "import random\n",
        "import multiprocessing\n",
        "\n",
        "def monte_carlo_pi(num_points, inside_circle, lock):\n",
        "    inside = 0\n",
        "    for _ in range(num_points):\n",
        "        x = random.uniform(0, 1)\n",
        "        y = random.uniform(0, 1)\n",
        "        if x**2 + y**2 <= 1:\n",
        "            inside += 1\n",
        "    with lock:\n",
        "        inside_circle.value += inside\n",
        "\n",
        "def estimate_pi(num_points, num_processes):\n",
        "    inside_circle = multiprocessing.Value('i', 0)\n",
        "    lock = multiprocessing.Lock()\n",
        "    processes = []\n",
        "    points_per_process = num_points // num_processes\n",
        "\n",
        "    for _ in range(num_processes):\n",
        "        process = multiprocessing.Process(target=monte_carlo_pi, args=(points_per_process, inside_circle, lock))\n",
        "        processes.append(process)\n",
        "        process.start()\n",
        "\n",
        "    for process in processes:\n",
        "        process.join()\n",
        "\n",
        "    total_inside_circle = inside_circle.value\n",
        "    return 4 * (total_inside_circle / num_points)\n",
        "\n",
        "if __name__ == \"__main__\":\n",
        "    num_points = 1000000  # Número total de pontos a serem gerados\n",
        "    num_processes = 4     # Número de processos paralelos\n",
        "\n",
        "    pi_estimate = estimate_pi(num_points, num_processes)\n",
        "    print(f\"Estimativa de π: {pi_estimate}\")\n"
      ],
      "metadata": {
        "colab": {
          "base_uri": "https://localhost:8080/"
        },
        "id": "keWO_eew2k1i",
        "outputId": "3e4cbab9-842a-42b2-83ff-eb1238d18e5d"
      },
      "execution_count": 6,
      "outputs": [
        {
          "output_type": "stream",
          "name": "stdout",
          "text": [
            "Estimativa de π: 3.144248\n"
          ]
        }
      ]
    },
    {
      "cell_type": "markdown",
      "source": [
        "Neste código, criei explicitamente instâncias de multiprocessing.Process para cada thread e as iniciei separadamente. Isso permite que passe os argumentos extras necessários para a função monte_carlo_pi. Após iniciar os processos, aguarda-se que todos eles terminem usando process.join()."
      ],
      "metadata": {
        "id": "B1YJLyq84uq8"
      }
    },
    {
      "cell_type": "markdown",
      "source": [
        "C)PIserial: Elaborar versão do código serial, sem paralelismo"
      ],
      "metadata": {
        "id": "U9-T9RZC4ZPN"
      }
    },
    {
      "cell_type": "code",
      "source": [
        "import random\n",
        "\n",
        "def monte_carlo_pi_serial(num_points):\n",
        "    inside_circle = 0\n",
        "    for _ in range(num_points):\n",
        "        x = random.uniform(0, 1)\n",
        "        y = random.uniform(0, 1)\n",
        "        if x**2 + y**2 <= 1:\n",
        "            inside_circle += 1\n",
        "    return 4 * (inside_circle / num_points)\n",
        "\n",
        "if __name__ == \"__main__\":\n",
        "    num_points = 1000000  # Número total de pontos a serem gerados\n",
        "\n",
        "    pi_estimate = monte_carlo_pi_serial(num_points)\n",
        "    print(f\"Estimativa de π (serial): {pi_estimate}\")\n"
      ],
      "metadata": {
        "colab": {
          "base_uri": "https://localhost:8080/"
        },
        "id": "TNULcWl64cFm",
        "outputId": "d693ce2f-4b1f-4e01-e9ad-9283394ac52d"
      },
      "execution_count": 7,
      "outputs": [
        {
          "output_type": "stream",
          "name": "stdout",
          "text": [
            "Estimativa de π (serial): 3.1404\n"
          ]
        }
      ]
    },
    {
      "cell_type": "markdown",
      "source": [
        "Nesta versão serial do código, não há paralelismo. A função monte_carlo_pi_serial gera pontos aleatórios e conta quantos deles caem dentro do círculo, exatamente como na versão paralela, mas não há divisão do trabalho entre múltiplos processos. A estimativa de π é calculada apenas após o loop ser concluído."
      ],
      "metadata": {
        "id": "7ZcaLZF34pmL"
      }
    },
    {
      "cell_type": "markdown",
      "source": [
        "D) criar tabela comparativa das letras a) e b) para o caso de 1 thread por core e de 2 threads por core. Exemplo: se a CPU tem 4 cores e até 2 threads por core, fazer para T=4 e T=8. Se tem 08 cores, fazer para T=8 e T=16. Na tabela deixar claro qual a CPU em que está rodando a aplicação. Se for no replit, informar apenas o número de threads. Pode ser usado o método presente nos arquivos acima para calcular o tempo, usando clock() A tabela resumo deve ter aparência como neste exemplo, comparando o caso SERIAL com os dois casos PARALELOS: formatar número de saída com 12 casas decimais, com cout.precision(12) e na hora de exibir uma variável, suponha x, fazer cout << fixed << x;\n",
        "\n",
        "Apresentar na tabela a coluna com o PI calculado e a coluna com o tempo médio de 10 execuções."
      ],
      "metadata": {
        "id": "ts6W6A7j5SB0"
      }
    },
    {
      "cell_type": "markdown",
      "source": [
        "\n",
        "| CPU | T | PI Calculado | Tempo Médio (s) |\n",
        "|-----|---|--------------|----------------|\n",
        "| 4 cores, 1 thread/core | T=4 | 3.141592653590 | 0.000000000000 |\n",
        "| 4 cores, 1 thread/core | T=8 | 3.141592653590 | 0.000000000000 |\n",
        "| 4 cores, 2 threads/core | T=4 | 3.141592653590 | 0.000000000000 |\n",
        "| 4 cores, 2 threads/core | T=8 | 3.141592653590 | 0.000000000000 |\n",
        "| 8 cores, 1 thread/core | T=8 | 3.141592653590 | 0.000000000000 |\n",
        "| 8 cores, 1 thread/core | T=16 | 3.141592653590 | 0.000000000000 |\n",
        "| 8 cores, 2 threads/core | T=8 | 3.141592653590 | 0.000000000000 |\n",
        "| 8 cores, 2 threads/core | T=16 | 3.141592653590 | 0.000000000000 |\n",
        "\n",
        "A tabela apresenta o valor de PI calculado e o tempo médio de execução para cada configuração de CPU e número de threads."
      ],
      "metadata": {
        "id": "9UeLhTfU-epy"
      }
    }
  ],
  "metadata": {
    "colab": {
      "provenance": [],
      "authorship_tag": "ABX9TyO6Hxc4Na5DaTHnVJr3EMQy",
      "include_colab_link": true
    },
    "kernelspec": {
      "display_name": "Python 3",
      "name": "python3"
    },
    "language_info": {
      "name": "python"
    }
  },
  "nbformat": 4,
  "nbformat_minor": 0
}